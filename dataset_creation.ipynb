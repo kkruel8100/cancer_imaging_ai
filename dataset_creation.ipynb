{
 "cells": [
  {
   "cell_type": "code",
   "execution_count": 1,
   "metadata": {},
   "outputs": [],
   "source": [
    "import os\n",
    "import pickle\n",
    "from PIL import Image\n",
    "import numpy as np"
   ]
  },
  {
   "cell_type": "code",
   "execution_count": 2,
   "metadata": {},
   "outputs": [],
   "source": [
    "# Load images from folder\n",
    "def load_images_from_folder(folder):\n",
    "    images = []\n",
    "    for filename in os.listdir(folder):\n",
    "        img_path = os.path.join(folder, filename)\n",
    "        if os.path.isfile(img_path):\n",
    "            try:\n",
    "                img = Image.open(img_path)\n",
    "                img_array = np.array(img)\n",
    "                images.append(img_array)\n",
    "            except Exception as e:\n",
    "                print(f\"Error loading image {img_path}: {e}\")\n",
    "    return images"
   ]
  },
  {
   "cell_type": "code",
   "execution_count": 3,
   "metadata": {},
   "outputs": [],
   "source": [
    "# Save images to pickle file\n",
    "def save_images_to_pickle(images, output_file):\n",
    "    with open(output_file, 'wb') as f:\n",
    "        pickle.dump(images, f)"
   ]
  },
  {
   "cell_type": "code",
   "execution_count": 9,
   "metadata": {},
   "outputs": [],
   "source": [
    "# Define folder path and pickle file names\n",
    "base_path = \"/Users/kimberlykruel/Downloads/archive (7)\"\n",
    "subfolders = [\"train/Malignant\", \"train/Benign\", \"test/Malignant\", \"test/Benign\"]\n",
    "output_files = [\"./datasets/train_malignant\", \"./datasets/train_benign\", \"./datasets/test_malignant\", \"./datasets/test_benign\"]\n",
    "output_file_suffix = \".pkl\""
   ]
  },
  {
   "cell_type": "code",
   "execution_count": 17,
   "metadata": {},
   "outputs": [
    {
     "name": "stdout",
     "output_type": "stream",
     "text": [
      "Saved 5590 images to ./datasets/train_malignant.pkl\n",
      "Saved 6289 images to ./datasets/train_benign.pkl\n",
      "Saved 1000 images to ./datasets/test_malignant.pkl\n",
      "Saved 1000 images to ./datasets/test_benign.pkl\n"
     ]
    }
   ],
   "source": [
    "# Define batch size\n",
    "# batch_size = 300\n",
    "\n",
    "# Loop through subfolders, load images, and save to pickle files\n",
    "for subfolder in subfolders:\n",
    "    folder_path = os.path.join(base_path, subfolder)\n",
    "    images = load_images_from_folder(folder_path)\n",
    "    output_file = f\"{output_files[subfolders.index(subfolder)]}{output_file_suffix}\"\n",
    "    save_images_to_pickle(images, output_file)\n",
    "    print(f\"Saved {len(images)} images to {output_file}\")\n",
    "    \n",
    "    # # Split images and output files into batches\n",
    "    # for i in range(0, len(images), batch_size):\n",
    "    #     batch_images = images[i:i+batch_size]\n",
    "    #     batch_output_file = f\"{output_files[subfolders.index(subfolder)]}_{i//batch_size}{output_file_suffix}\"\n",
    "    #     save_images_to_pickle(batch_images, batch_output_file)\n",
    "    #     print(f\"Saved {len(batch_images)} images to {batch_output_file}\")"
   ]
  },
  {
   "cell_type": "code",
   "execution_count": null,
   "metadata": {},
   "outputs": [],
   "source": []
  }
 ],
 "metadata": {
  "kernelspec": {
   "display_name": "dev",
   "language": "python",
   "name": "python3"
  },
  "language_info": {
   "codemirror_mode": {
    "name": "ipython",
    "version": 3
   },
   "file_extension": ".py",
   "mimetype": "text/x-python",
   "name": "python",
   "nbconvert_exporter": "python",
   "pygments_lexer": "ipython3",
   "version": "3.10.8"
  }
 },
 "nbformat": 4,
 "nbformat_minor": 2
}
