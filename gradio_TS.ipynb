{
 "cells": [
  {
   "cell_type": "code",
   "execution_count": 8,
   "metadata": {},
   "outputs": [],
   "source": [
    "#! pip install openai --upgrade"
   ]
  },
  {
   "cell_type": "code",
   "execution_count": 9,
   "metadata": {},
   "outputs": [],
   "source": [
    "import pickle\n",
    "from PIL import Image\n",
    "import numpy as np\n",
    "import gradio as gr\n",
    "from tensorflow.keras.models import load_model\n",
    "import tensorflow as tf\n",
    "from pathlib import Path\n",
    "import openai\n",
    "import os\n",
    "from dotenv import load_dotenv"
   ]
  },
  {
   "cell_type": "code",
   "execution_count": 10,
   "metadata": {},
   "outputs": [
    {
     "name": "stdout",
     "output_type": "stream",
     "text": [
      "OpenAI API Key Loaded: True\n"
     ]
    }
   ],
   "source": [
    "# Load environment variables from the .env file\n",
    "load_dotenv()\n",
    "# Add your OpenAI API key here\n",
    "openai_api_key = os.getenv(\"OPENAI_API_KEY\")\n",
    "print (f\"OpenAI API Key Loaded: {openai_api_key is not None}\")\n",
    "# Set the OpenAI API key\n",
    "openai.api_key = openai_api_key\n"
   ]
  },
  {
   "cell_type": "code",
   "execution_count": 11,
   "metadata": {},
   "outputs": [
    {
     "name": "stdout",
     "output_type": "stream",
     "text": [
      "Loading model from models/model_adam_scaled.h5\n"
     ]
    },
    {
     "name": "stderr",
     "output_type": "stream",
     "text": [
      "WARNING:absl:Compiled the loaded model, but the compiled metrics have yet to be built. `model.compile_metrics` will be empty until you train or evaluate the model.\n"
     ]
    },
    {
     "name": "stdout",
     "output_type": "stream",
     "text": [
      "Model compiled successfully.\n"
     ]
    }
   ],
   "source": [
    "# Set the model's file path\n",
    "file_path = Path(\"models/model_adam_scaled.h5\")\n",
    "print(f\"Loading model from {file_path}\")\n",
    "\n",
    "# Load the model to a new object\n",
    "adam_scaled = tf.keras.models.load_model(file_path)\n",
    "\n",
    "# Compile the model\n",
    "adam_scaled.compile(\n",
    "    optimizer='adam', \n",
    "    loss='binary_crossentropy', \n",
    "    metrics=['accuracy']\n",
    ")\n",
    "print(\"Model compiled successfully.\")\n"
   ]
  },
  {
   "cell_type": "code",
   "execution_count": 12,
   "metadata": {},
   "outputs": [],
   "source": [
    "# Define a function to generate explanations\n",
    "def generate_explanation(prediction):\n",
    "    prompt = (\n",
    "        f\"The model has predicted the image as {prediction}. \"\n",
    "        \"Explain what this means in simple terms and provide any relevant information.\"\n",
    "    )\n",
    "    response = openai.ChatCompletion.create(\n",
    "        model=\"gpt-4\",  # Use the ChatGPT-4 model\n",
    "        messages=[\n",
    "            {\"role\": \"system\", \"content\": \"You are a helpful assistant.\"},\n",
    "            {\"role\": \"user\", \"content\": prompt}\n",
    "        ],\n",
    "        max_tokens=100,\n",
    "        temperature=0.7,\n",
    "    )\n",
    "    explanation = response['choices'][0]['message']['content'].strip()\n",
    "    return explanation\n",
    "\n",
    "# Define the prediction function\n",
    "@tf.function\n",
    "def predict_image_tensor(img_array):\n",
    "    return adam_scaled.predict(img_array)\n",
    "\n",
    "# Define the Gradio prediction function\n",
    "def predict_image(img):\n",
    "    try:\n",
    "        print(\"Resizing image...\")\n",
    "        img = img.resize((224, 224))\n",
    "        img_array = np.array(img) / 255.0\n",
    "        img_array = np.expand_dims(img_array, axis=0)\n",
    "        print(f\"Image shape: {img_array.shape}\")\n",
    "        prediction = adam_scaled.predict(img_array)\n",
    "        print(f\"Prediction: {prediction[0][0]}\")\n",
    "        prediction_label = \"Malignant\" if prediction[0][0] > 0.5 else \"Benign\"\n",
    "        explanation = generate_explanation(prediction_label)\n",
    "        return f\"Prediction: {prediction_label}\\n\\nExplanation: {explanation}\"\n",
    "    except Exception as e:\n",
    "        print(f'Error: {e}')\n",
    "        return 'There was an error processing the image. Please try again.'\n"
   ]
  },
  {
   "cell_type": "code",
   "execution_count": 13,
   "metadata": {},
   "outputs": [
    {
     "name": "stdout",
     "output_type": "stream",
     "text": [
      "Running on local URL:  http://127.0.0.1:7862\n",
      "\n",
      "To create a public link, set `share=True` in `launch()`.\n"
     ]
    },
    {
     "data": {
      "text/html": [
       "<div><iframe src=\"http://127.0.0.1:7862/\" width=\"100%\" height=\"500\" allow=\"autoplay; camera; microphone; clipboard-read; clipboard-write;\" frameborder=\"0\" allowfullscreen></iframe></div>"
      ],
      "text/plain": [
       "<IPython.core.display.HTML object>"
      ]
     },
     "metadata": {},
     "output_type": "display_data"
    },
    {
     "data": {
      "text/plain": []
     },
     "execution_count": 13,
     "metadata": {},
     "output_type": "execute_result"
    }
   ],
   "source": [
    "# Create Gradio interface\n",
    "interface = gr.Interface(\n",
    "    fn=predict_image,\n",
    "    inputs=gr.Image(image_mode='RGB', type='pil'),\n",
    "    outputs=\"text\",\n",
    "    title=\"Image Classification with CNN and ChatGPT-4 Explanation\",\n",
    "    description=\"Upload an image, and the model will predict whether it's malignant or benign, with an explanation.\"\n",
    ")\n",
    "\n",
    "# Launch the interface\n",
    "interface.launch()\n",
    "\n"
   ]
  }
 ],
 "metadata": {
  "kernelspec": {
   "display_name": "dev",
   "language": "python",
   "name": "python3"
  },
  "language_info": {
   "codemirror_mode": {
    "name": "ipython",
    "version": 3
   },
   "file_extension": ".py",
   "mimetype": "text/x-python",
   "name": "python",
   "nbconvert_exporter": "python",
   "pygments_lexer": "ipython3",
   "version": "3.12.3"
  }
 },
 "nbformat": 4,
 "nbformat_minor": 2
}
