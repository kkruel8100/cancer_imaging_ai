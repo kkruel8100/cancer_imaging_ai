{
 "cells": [
  {
   "cell_type": "code",
   "execution_count": 1,
   "metadata": {},
   "outputs": [],
   "source": [
    "import pickle\n",
    "from PIL import Image\n",
    "import numpy as np"
   ]
  },
  {
   "cell_type": "code",
   "execution_count": 2,
   "metadata": {},
   "outputs": [],
   "source": [
    "file_path = './datasets'\n",
    "file_suffix = '.pkl'\n",
    "test_benign_local_path = f'{file_path}/test_benign{file_suffix}'\n",
    "\n",
    "# Load the pickle file from local\n",
    "with open(test_benign_local_path, 'rb') as f:\n",
    "    test_benign = pickle.load(f)"
   ]
  },
  {
   "cell_type": "code",
   "execution_count": 3,
   "metadata": {},
   "outputs": [],
   "source": [
    "test_malignant_local_path = f'{file_path}/test_malignant{file_suffix}'\n",
    "\n",
    "# Load the pickle file from local\n",
    "with open(test_malignant_local_path, 'rb') as f:\n",
    "    test_malignant = pickle.load(f)"
   ]
  },
  {
   "cell_type": "code",
   "execution_count": 4,
   "metadata": {},
   "outputs": [],
   "source": [
    "train_malignant_local_path = f'{file_path}/train_malignant{file_suffix}'\n",
    "\n",
    "# Load the pickle file from local\n",
    "with open(train_malignant_local_path, 'rb') as f:\n",
    "    train_malignant = pickle.load(f)"
   ]
  },
  {
   "cell_type": "code",
   "execution_count": 5,
   "metadata": {},
   "outputs": [],
   "source": [
    "train_benign_local_path = f'{file_path}/train_benign{file_suffix}'\n",
    "\n",
    "# Load the pickle file from local\n",
    "with open(train_benign_local_path, 'rb') as f:\n",
    "    train_benign = pickle.load(f)"
   ]
  },
  {
   "cell_type": "code",
   "execution_count": 6,
   "metadata": {},
   "outputs": [
    {
     "name": "stdout",
     "output_type": "stream",
     "text": [
      "<class 'numpy.ndarray'>\n",
      "<class 'list'>\n",
      "11879\n",
      "(224, 224, 3)\n"
     ]
    }
   ],
   "source": [
    "# Combine train benign and malignant data into list\n",
    "X_train = train_benign + train_malignant\n",
    "print(type(X_train[0]))\n",
    "print(type(X_train))\n",
    "print(len(X_train))\n",
    "print(X_train[0].shape)"
   ]
  },
  {
   "cell_type": "code",
   "execution_count": 7,
   "metadata": {},
   "outputs": [
    {
     "name": "stdout",
     "output_type": "stream",
     "text": [
      "<class 'list'>\n",
      "11879\n",
      "benign\n"
     ]
    }
   ],
   "source": [
    "# Combine train benign and malignant data into list and add label\n",
    "y_train = [\"benign\"] * len(train_benign) + [\"malignant\"] * len(train_malignant)\n",
    "print(type(y_train))\n",
    "print(len(y_train))\n",
    "print(y_train[0])"
   ]
  },
  {
   "cell_type": "code",
   "execution_count": 8,
   "metadata": {},
   "outputs": [
    {
     "name": "stdout",
     "output_type": "stream",
     "text": [
      "<class 'numpy.ndarray'>\n",
      "<class 'list'>\n",
      "2000\n",
      "(224, 224, 3)\n"
     ]
    }
   ],
   "source": [
    "# Combine test benign and malignant data into list\n",
    "X_test = test_benign + test_malignant\n",
    "print(type(X_test[0]))\n",
    "print(type(X_test))\n",
    "print(len(X_test))\n",
    "print(X_test[0].shape)"
   ]
  },
  {
   "cell_type": "code",
   "execution_count": 9,
   "metadata": {},
   "outputs": [
    {
     "name": "stdout",
     "output_type": "stream",
     "text": [
      "<class 'list'>\n",
      "2000\n",
      "benign\n"
     ]
    }
   ],
   "source": [
    "y_test = [\"benign\"] * len(test_benign) + [\"malignant\"] * len(test_malignant)\n",
    "print(type(y_test))\n",
    "print(len(y_test))\n",
    "print(y_test[0])"
   ]
  },
  {
   "cell_type": "code",
   "execution_count": 10,
   "metadata": {},
   "outputs": [],
   "source": [
    "from sklearn.preprocessing import LabelEncoder"
   ]
  },
  {
   "cell_type": "code",
   "execution_count": 11,
   "metadata": {},
   "outputs": [
    {
     "name": "stdout",
     "output_type": "stream",
     "text": [
      "<class 'numpy.ndarray'>\n",
      "0\n"
     ]
    }
   ],
   "source": [
    "# Label encode the y data\n",
    "y_train_encoder = LabelEncoder().fit(y_train)\n",
    "y_train_encoded = y_train_encoder.transform(y_train)\n",
    "print(type(y_train_encoded))\n",
    "print(y_train_encoded[0])"
   ]
  },
  {
   "cell_type": "code",
   "execution_count": 12,
   "metadata": {},
   "outputs": [
    {
     "name": "stdout",
     "output_type": "stream",
     "text": [
      "<class 'numpy.ndarray'>\n",
      "0\n"
     ]
    }
   ],
   "source": [
    "# Label encode the y data\n",
    "y_test_encoder = LabelEncoder().fit(y_test)\n",
    "y_test_encoded = y_test_encoder.transform(y_test)\n",
    "print(type(y_test_encoded))\n",
    "print(y_test_encoded[0])"
   ]
  },
  {
   "cell_type": "code",
   "execution_count": 13,
   "metadata": {},
   "outputs": [],
   "source": [
    "import tensorflow as tf\n",
    "from tensorflow import keras\n",
    "from tensorflow.keras import layers\n",
    "from tensorflow.keras.optimizers import Adam"
   ]
  },
  {
   "cell_type": "code",
   "execution_count": 14,
   "metadata": {},
   "outputs": [
    {
     "name": "stdout",
     "output_type": "stream",
     "text": [
      "11879\n",
      "11879\n",
      "2000\n",
      "2000\n"
     ]
    }
   ],
   "source": [
    "print(len(X_train))\n",
    "print(len(y_train_encoded))\n",
    "print(len(X_test))\n",
    "print(len(y_test_encoded))"
   ]
  },
  {
   "cell_type": "code",
   "execution_count": 15,
   "metadata": {},
   "outputs": [
    {
     "name": "stdout",
     "output_type": "stream",
     "text": [
      "Unique shapes in X_train: [[224 224   3]]\n",
      "Unique shapes in X_test: [[224 224   3]]\n"
     ]
    }
   ],
   "source": [
    "# Get unique shapes\n",
    "\n",
    "X_train_shapes = [x.shape for x in X_train]\n",
    "X_test_shapes = [x.shape for x in X_test]\n",
    "\n",
    "# Get unique shapes\n",
    "unique_shapes_train = np.unique(X_train_shapes, axis=0)\n",
    "unique_shapes_test = np.unique(X_test_shapes, axis=0)\n",
    "\n",
    "print(\"Unique shapes in X_train:\", unique_shapes_train)\n",
    "print(\"Unique shapes in X_test:\", unique_shapes_test)"
   ]
  },
  {
   "cell_type": "code",
   "execution_count": 16,
   "metadata": {},
   "outputs": [
    {
     "name": "stdout",
     "output_type": "stream",
     "text": [
      "Epoch 1/2\n"
     ]
    },
    {
     "name": "stderr",
     "output_type": "stream",
     "text": [
      "2024-05-15 19:21:12.335989: W tensorflow/tsl/platform/profile_utils/cpu_utils.cc:128] Failed to get CPU frequency: 0 Hz\n"
     ]
    },
    {
     "name": "stdout",
     "output_type": "stream",
     "text": [
      "372/372 [==============================] - 49s 130ms/step - loss: 87.2903 - accuracy: 0.7325 - val_loss: 1.0643 - val_accuracy: 0.7080\n",
      "Epoch 2/2\n",
      "372/372 [==============================] - 48s 129ms/step - loss: 0.6784 - accuracy: 0.8406 - val_loss: 0.7244 - val_accuracy: 0.7795\n"
     ]
    }
   ],
   "source": [
    "# Define a CNN model\n",
    "model = keras.Sequential([\n",
    "    layers.Conv2D(32, (3, 3), activation='relu', input_shape=(224, 224, 3)),\n",
    "    layers.MaxPooling2D((2, 2)),\n",
    "    layers.Flatten(),\n",
    "    layers.Dense(64, activation='relu'),\n",
    "    layers.Dense(1, activation='sigmoid')\n",
    "])\n",
    "\n",
    "# Compile the model\n",
    "model.compile(optimizer='adam', loss='binary_crossentropy', metrics=['accuracy'])\n",
    "\n",
    "# Train the model\n",
    "batch_size = 32\n",
    "epochs = 2\n",
    "\n",
    "X_train_np = np.array(X_train)\n",
    "X_test_np = np.array(X_test)\n",
    "\n",
    "history = model.fit(\n",
    "    X_train_np, y_train_encoded,\n",
    "    validation_data=(X_test_np, y_test_encoded),\n",
    "    epochs=epochs\n",
    ")\n"
   ]
  },
  {
   "cell_type": "code",
   "execution_count": 20,
   "metadata": {},
   "outputs": [
    {
     "name": "stdout",
     "output_type": "stream",
     "text": [
      "Epoch 1/2\n",
      "372/372 [==============================] - 52s 140ms/step - loss: 382.9328 - accuracy: 0.6952 - val_loss: 0.7698 - val_accuracy: 0.6865\n",
      "Epoch 2/2\n",
      "372/372 [==============================] - 51s 138ms/step - loss: 1.2168 - accuracy: 0.7618 - val_loss: 5.7645 - val_accuracy: 0.6175\n"
     ]
    }
   ],
   "source": [
    "# Define a CNN model\n",
    "model = keras.Sequential([\n",
    "    layers.Conv2D(32, (3, 3), activation='relu', input_shape=(224, 224, 3)),\n",
    "    layers.MaxPooling2D((2, 2)),\n",
    "    layers.Flatten(),\n",
    "    layers.Dense(64, activation='relu'),\n",
    "    layers.Dense(1, activation='sigmoid')\n",
    "])\n",
    "\n",
    "# Compile the model\n",
    "model.compile(optimizer='rmsprop', loss='binary_crossentropy', metrics=['accuracy'])\n",
    "\n",
    "# Train the model\n",
    "batch_size = 32\n",
    "epochs = 2\n",
    "\n",
    "X_train_np = np.array(X_train)\n",
    "X_test_np = np.array(X_test)\n",
    "\n",
    "history = model.fit(\n",
    "    X_train_np, y_train_encoded,\n",
    "    validation_data=(X_test_np, y_test_encoded),\n",
    "    epochs=epochs\n",
    ")"
   ]
  },
  {
   "cell_type": "code",
   "execution_count": 21,
   "metadata": {},
   "outputs": [
    {
     "name": "stdout",
     "output_type": "stream",
     "text": [
      "Epoch 1/2\n",
      "372/372 [==============================] - 47s 127ms/step - loss: 2290655952896.0000 - accuracy: 0.5277 - val_loss: 0.6939 - val_accuracy: 0.5000\n",
      "Epoch 2/2\n",
      "372/372 [==============================] - 47s 127ms/step - loss: 0.6916 - accuracy: 0.5294 - val_loss: 0.6944 - val_accuracy: 0.5000\n"
     ]
    }
   ],
   "source": [
    "# Define a CNN model\n",
    "model = keras.Sequential([\n",
    "    layers.Conv2D(32, (3, 3), activation='relu', input_shape=(224, 224, 3)),\n",
    "    layers.MaxPooling2D((2, 2)),\n",
    "    layers.Flatten(),\n",
    "    layers.Dense(64, activation='relu'),\n",
    "    layers.Dense(1, activation='sigmoid')\n",
    "])\n",
    "\n",
    "# Compile the model\n",
    "model.compile(optimizer='sgd', loss='binary_crossentropy', metrics=['accuracy'])\n",
    "\n",
    "# Train the model\n",
    "batch_size = 32\n",
    "epochs = 2\n",
    "\n",
    "X_train_np = np.array(X_train)\n",
    "X_test_np = np.array(X_test)\n",
    "\n",
    "history = model.fit(\n",
    "    X_train_np, y_train_encoded,\n",
    "    validation_data=(X_test_np, y_test_encoded),\n",
    "    epochs=epochs\n",
    ")"
   ]
  },
  {
   "cell_type": "code",
   "execution_count": 22,
   "metadata": {},
   "outputs": [
    {
     "name": "stdout",
     "output_type": "stream",
     "text": [
      "Epoch 1/2\n",
      "372/372 [==============================] - 51s 137ms/step - loss: 37.5290 - accuracy: 0.5275 - val_loss: 0.6936 - val_accuracy: 0.5000\n",
      "Epoch 2/2\n",
      "372/372 [==============================] - 51s 137ms/step - loss: 0.6917 - accuracy: 0.5294 - val_loss: 0.6942 - val_accuracy: 0.5000\n"
     ]
    }
   ],
   "source": [
    "# Define a CNN model\n",
    "model = keras.Sequential([\n",
    "    layers.Conv2D(32, (3, 3), activation='relu', input_shape=(224, 224, 3)),\n",
    "    layers.MaxPooling2D((2, 2)),\n",
    "    layers.Flatten(),\n",
    "    layers.Dense(64, activation='relu'),\n",
    "    layers.Dense(1, activation='sigmoid')\n",
    "])\n",
    "\n",
    "# Compile the model\n",
    "model.compile(optimizer='adam', loss='binary_crossentropy', metrics=['accuracy'])\n",
    "\n",
    "# Train the model\n",
    "batch_size = 25\n",
    "epochs = 2\n",
    "\n",
    "X_train_np = np.array(X_train)\n",
    "X_test_np = np.array(X_test)\n",
    "\n",
    "history = model.fit(\n",
    "    X_train_np, y_train_encoded,\n",
    "    validation_data=(X_test_np, y_test_encoded),\n",
    "    epochs=epochs\n",
    ")"
   ]
  },
  {
   "cell_type": "code",
   "execution_count": 24,
   "metadata": {},
   "outputs": [
    {
     "name": "stdout",
     "output_type": "stream",
     "text": [
      "Epoch 1/2\n",
      "372/372 [==============================] - 140s 375ms/step - loss: 4.3654 - accuracy: 0.7110 - val_loss: 0.6148 - val_accuracy: 0.6475\n",
      "Epoch 2/2\n",
      "372/372 [==============================] - 141s 380ms/step - loss: 0.5601 - accuracy: 0.7076 - val_loss: 0.6414 - val_accuracy: 0.6200\n"
     ]
    }
   ],
   "source": [
    "# Define a CNN model\n",
    "model = keras.Sequential([\n",
    "    layers.Conv2D(32, (3, 3), activation='relu', input_shape=(224, 224, 3)),\n",
    "    layers.MaxPooling2D((2, 2)),\n",
    "    layers.Conv2D(64, (3, 3), activation='relu', input_shape=(224, 224, 3)),\n",
    "    layers.MaxPooling2D((2, 2)),\n",
    "    layers.Conv2D(128, (3, 3), activation='relu', input_shape=(224, 224, 3)),\n",
    "    layers.MaxPooling2D((2, 2)),\n",
    "    layers.Flatten(),\n",
    "     # Dense layers\n",
    "    layers.Dense(128, activation='relu'),\n",
    "    layers.Dense(64, activation='relu'),\n",
    "    layers.Dense(1, activation='sigmoid')\n",
    "])\n",
    "\n",
    "# Compile the model\n",
    "model.compile(optimizer='adam', loss='binary_crossentropy', metrics=['accuracy'])\n",
    "\n",
    "# Train the model\n",
    "batch_size = 32\n",
    "epochs = 2\n",
    "\n",
    "X_train_np = np.array(X_train)\n",
    "X_test_np = np.array(X_test)\n",
    "\n",
    "history = model.fit(\n",
    "    X_train_np, y_train_encoded,\n",
    "    validation_data=(X_test_np, y_test_encoded),\n",
    "    epochs=epochs\n",
    ")"
   ]
  },
  {
   "cell_type": "code",
   "execution_count": 26,
   "metadata": {},
   "outputs": [
    {
     "name": "stdout",
     "output_type": "stream",
     "text": [
      "372/372 [==============================] - 40s 108ms/step - loss: 0.5570 - accuracy: 0.7072\n",
      "Validation Accuracy: 0.7072\n"
     ]
    }
   ],
   "source": [
    "val_loss, val_accuracy = model.evaluate(X_train_np, y_train_encoded)\n",
    "\n",
    "print(f'Validation Accuracy: {val_accuracy:.4f}')"
   ]
  },
  {
   "cell_type": "code",
   "execution_count": 27,
   "metadata": {},
   "outputs": [
    {
     "name": "stdout",
     "output_type": "stream",
     "text": [
      "63/63 [==============================] - 7s 105ms/step - loss: 0.6414 - accuracy: 0.6200\n",
      "Validation Accuracy: 0.6200\n"
     ]
    }
   ],
   "source": [
    "val_loss, val_accuracy = model.evaluate(X_test_np, y_test_encoded)\n",
    "\n",
    "print(f'Validation Accuracy: {val_accuracy:.4f}')"
   ]
  },
  {
   "cell_type": "code",
   "execution_count": 40,
   "metadata": {},
   "outputs": [
    {
     "name": "stdout",
     "output_type": "stream",
     "text": [
      "Epoch 1/10\n",
      "372/372 [==============================] - 51s 135ms/step - loss: 212.3522 - accuracy: 0.7350 - val_loss: 2.4152 - val_accuracy: 0.7080\n",
      "Epoch 2/10\n",
      "372/372 [==============================] - 49s 131ms/step - loss: 1.1836 - accuracy: 0.7890 - val_loss: 0.9581 - val_accuracy: 0.7660\n",
      "Epoch 3/10\n",
      "372/372 [==============================] - 49s 131ms/step - loss: 0.6325 - accuracy: 0.8292 - val_loss: 0.8493 - val_accuracy: 0.7730\n",
      "Epoch 4/10\n",
      "372/372 [==============================] - 51s 136ms/step - loss: 0.5290 - accuracy: 0.8524 - val_loss: 0.6663 - val_accuracy: 0.7970\n",
      "Epoch 5/10\n",
      "372/372 [==============================] - 51s 137ms/step - loss: 0.3844 - accuracy: 0.8791 - val_loss: 0.7311 - val_accuracy: 0.7810\n",
      "Epoch 6/10\n",
      "372/372 [==============================] - 51s 137ms/step - loss: 0.2907 - accuracy: 0.9011 - val_loss: 0.6706 - val_accuracy: 0.8290\n",
      "Epoch 7/10\n",
      "372/372 [==============================] - 50s 133ms/step - loss: 0.2168 - accuracy: 0.9247 - val_loss: 0.7285 - val_accuracy: 0.8330\n",
      "Epoch 8/10\n",
      "372/372 [==============================] - 51s 138ms/step - loss: 0.1691 - accuracy: 0.9469 - val_loss: 0.8136 - val_accuracy: 0.8565\n",
      "Epoch 9/10\n",
      "372/372 [==============================] - 49s 133ms/step - loss: 0.1472 - accuracy: 0.9543 - val_loss: 0.9019 - val_accuracy: 0.8440\n",
      "Epoch 10/10\n",
      "372/372 [==============================] - 50s 133ms/step - loss: 0.1725 - accuracy: 0.9502 - val_loss: 1.0788 - val_accuracy: 0.8125\n"
     ]
    }
   ],
   "source": [
    "# This is the best model so far !\n",
    "# Define a CNN model\n",
    "model = keras.Sequential([\n",
    "    layers.Conv2D(32, (3, 3), activation='relu', input_shape=(224, 224, 3)),\n",
    "    layers.MaxPooling2D((2, 2)),\n",
    "    layers.Flatten(),\n",
    "    layers.Dense(64, activation='relu'),\n",
    "    layers.Dense(1, activation='sigmoid')\n",
    "])\n",
    "\n",
    "# Compile the model\n",
    "model.compile(optimizer='adam', loss='binary_crossentropy', metrics=['accuracy'])\n",
    "\n",
    "# Train the model\n",
    "batch_size = 32\n",
    "epochs = 10\n",
    "\n",
    "X_train_np = np.array(X_train)\n",
    "X_test_np = np.array(X_test)\n",
    "\n",
    "history = model.fit(\n",
    "    X_train_np, y_train_encoded,\n",
    "    validation_data=(X_test_np, y_test_encoded),\n",
    "    epochs=epochs\n",
    ")"
   ]
  },
  {
   "cell_type": "code",
   "execution_count": 41,
   "metadata": {},
   "outputs": [
    {
     "name": "stdout",
     "output_type": "stream",
     "text": [
      "372/372 [==============================] - 17s 46ms/step - loss: 0.1905 - accuracy: 0.9563\n",
      "Validation Accuracy: 0.9563\n"
     ]
    }
   ],
   "source": [
    "val_loss, val_accuracy = model.evaluate(X_train_np, y_train_encoded)\n",
    "\n",
    "print(f'Validation Accuracy: {val_accuracy:.4f}')"
   ]
  },
  {
   "cell_type": "code",
   "execution_count": null,
   "metadata": {},
   "outputs": [],
   "source": [
    "import os\n",
    "\n",
    "directory_name = 'models'\n",
    "\n",
    "if not os.path.exists(directory_name):\n",
    "    os.makedirs(directory_name)\n",
    "    print(f\"Directory '{directory_name}' created successfully.\")\n",
    "else:\n",
    "    print(f\"Directory '{directory_name}' already exists.\")"
   ]
  },
  {
   "cell_type": "code",
   "execution_count": 42,
   "metadata": {},
   "outputs": [],
   "source": [
    "model.save('./models/model.h5')"
   ]
  },
  {
   "cell_type": "code",
   "execution_count": 43,
   "metadata": {},
   "outputs": [],
   "source": [
    "from pathlib import Path\n",
    "# Set the model's file path\n",
    "file_path = Path(\"models/model.h5\")\n",
    "\n",
    "# Load the model to a new object\n",
    "nn_imported = tf.keras.models.load_model(file_path)"
   ]
  },
  {
   "cell_type": "code",
   "execution_count": 44,
   "metadata": {},
   "outputs": [
    {
     "name": "stdout",
     "output_type": "stream",
     "text": [
      "Model: \"sequential_192\"\n",
      "_________________________________________________________________\n",
      " Layer (type)                Output Shape              Param #   \n",
      "=================================================================\n",
      " conv2d_16 (Conv2D)          (None, 222, 222, 32)      896       \n",
      "                                                                 \n",
      " max_pooling2d_16 (MaxPoolin  (None, 111, 111, 32)     0         \n",
      " g2D)                                                            \n",
      "                                                                 \n",
      " flatten_12 (Flatten)        (None, 394272)            0         \n",
      "                                                                 \n",
      " dense_565 (Dense)           (None, 64)                25233472  \n",
      "                                                                 \n",
      " dense_566 (Dense)           (None, 1)                 65        \n",
      "                                                                 \n",
      "=================================================================\n",
      "Total params: 25,234,433\n",
      "Trainable params: 25,234,433\n",
      "Non-trainable params: 0\n",
      "_________________________________________________________________\n"
     ]
    }
   ],
   "source": [
    "nn_imported.summary()"
   ]
  },
  {
   "cell_type": "code",
   "execution_count": 34,
   "metadata": {},
   "outputs": [],
   "source": [
    "batch_size = [25, 32]\n",
    "epochs = [1, 2, 5, 10]\n",
    "optimizer = ['adam', 'rmsprop', 'sgd']\n",
    "parameters = {'batch_size': batch_size, 'epochs': epochs, 'optimizer': optimizer}\n"
   ]
  },
  {
   "cell_type": "code",
   "execution_count": 36,
   "metadata": {},
   "outputs": [
    {
     "name": "stdout",
     "output_type": "stream",
     "text": [
      "Epoch 1/5\n",
      "476/476 [==============================] - 52s 108ms/step - loss: 142.7846 - accuracy: 0.7269 - val_loss: 0.7840 - val_accuracy: 0.7775\n",
      "Epoch 2/5\n",
      "476/476 [==============================] - 51s 106ms/step - loss: 0.5049 - accuracy: 0.8402 - val_loss: 0.6461 - val_accuracy: 0.7895\n",
      "Epoch 3/5\n",
      "476/476 [==============================] - 51s 107ms/step - loss: 0.3239 - accuracy: 0.8948 - val_loss: 0.6057 - val_accuracy: 0.8620\n",
      "Epoch 4/5\n",
      "476/476 [==============================] - 50s 106ms/step - loss: 0.2569 - accuracy: 0.9220 - val_loss: 0.6870 - val_accuracy: 0.8620\n",
      "Epoch 5/5\n",
      "476/476 [==============================] - 50s 106ms/step - loss: 0.1852 - accuracy: 0.9428 - val_loss: 0.7542 - val_accuracy: 0.8770\n"
     ]
    }
   ],
   "source": [
    "# Define a CNN model\n",
    "model = keras.Sequential([\n",
    "    layers.Conv2D(32, (3, 3), activation='relu', input_shape=(224, 224, 3)),\n",
    "    layers.MaxPooling2D((2, 2)),\n",
    "    layers.Flatten(),\n",
    "    layers.Dense(64, activation='relu'),\n",
    "    layers.Dense(1, activation='sigmoid')\n",
    "])\n",
    "\n",
    "# Compile the model\n",
    "model.compile(optimizer='adam', loss='binary_crossentropy', metrics=['accuracy'])\n",
    "\n",
    "# Train the model\n",
    "batch_size = 25\n",
    "epochs = 5\n",
    "\n",
    "X_train_np = np.array(X_train)\n",
    "X_test_np = np.array(X_test)\n",
    "\n",
    "history = model.fit(\n",
    "    X_train_np, y_train_encoded,\n",
    "    validation_data=(X_test_np, y_test_encoded),\n",
    "    epochs=epochs,\n",
    "    batch_size= 25\n",
    ")"
   ]
  },
  {
   "cell_type": "code",
   "execution_count": 37,
   "metadata": {},
   "outputs": [
    {
     "name": "stdout",
     "output_type": "stream",
     "text": [
      "372/372 [==============================] - 16s 44ms/step - loss: 0.1329 - accuracy: 0.9614\n",
      "Validation Accuracy: 0.9614\n"
     ]
    }
   ],
   "source": [
    "val_loss, val_accuracy = model.evaluate(X_train_np, y_train_encoded)\n",
    "\n",
    "print(f'Validation Accuracy: {val_accuracy:.4f}')"
   ]
  },
  {
   "cell_type": "code",
   "execution_count": 38,
   "metadata": {},
   "outputs": [
    {
     "name": "stdout",
     "output_type": "stream",
     "text": [
      "Epoch 1/5\n",
      "186/186 [==============================] - 48s 255ms/step - loss: 361.9818 - accuracy: 0.5271 - val_loss: 0.6933 - val_accuracy: 0.5000\n",
      "Epoch 2/5\n",
      "186/186 [==============================] - 48s 256ms/step - loss: 0.6920 - accuracy: 0.5294 - val_loss: 0.6937 - val_accuracy: 0.5000\n",
      "Epoch 3/5\n",
      "186/186 [==============================] - 48s 256ms/step - loss: 0.6916 - accuracy: 0.5294 - val_loss: 0.6941 - val_accuracy: 0.5000\n",
      "Epoch 4/5\n",
      "186/186 [==============================] - 47s 255ms/step - loss: 0.6915 - accuracy: 0.5294 - val_loss: 0.6945 - val_accuracy: 0.5000\n",
      "Epoch 5/5\n",
      "186/186 [==============================] - 47s 254ms/step - loss: 0.6915 - accuracy: 0.5294 - val_loss: 0.6947 - val_accuracy: 0.5000\n"
     ]
    }
   ],
   "source": [
    "# Define a CNN model\n",
    "model = keras.Sequential([\n",
    "    layers.Conv2D(32, (3, 3), activation='relu', input_shape=(224, 224, 3)),\n",
    "    layers.MaxPooling2D((2, 2)),\n",
    "    layers.Flatten(),\n",
    "    layers.Dense(64, activation='relu'),\n",
    "    layers.Dense(1, activation='sigmoid')\n",
    "])\n",
    "\n",
    "# Compile the model\n",
    "model.compile(optimizer='adam', loss='binary_crossentropy', metrics=['accuracy'])\n",
    "\n",
    "# Train the model\n",
    "batch_size = 25\n",
    "epochs = 5\n",
    "\n",
    "X_train_np = np.array(X_train)\n",
    "X_test_np = np.array(X_test)\n",
    "\n",
    "history = model.fit(\n",
    "    X_train_np, y_train_encoded,\n",
    "    validation_data=(X_test_np, y_test_encoded),\n",
    "    epochs=epochs,\n",
    "    batch_size= 64\n",
    ")"
   ]
  },
  {
   "cell_type": "code",
   "execution_count": 39,
   "metadata": {},
   "outputs": [
    {
     "name": "stdout",
     "output_type": "stream",
     "text": [
      "372/372 [==============================] - 16s 43ms/step - loss: 0.6914 - accuracy: 0.5294\n",
      "Validation Accuracy: 0.5294\n"
     ]
    }
   ],
   "source": [
    "val_loss, val_accuracy = model.evaluate(X_train_np, y_train_encoded)\n",
    "\n",
    "print(f'Validation Accuracy: {val_accuracy:.4f}')"
   ]
  }
 ],
 "metadata": {
  "kernelspec": {
   "display_name": "dev",
   "language": "python",
   "name": "python3"
  },
  "language_info": {
   "codemirror_mode": {
    "name": "ipython",
    "version": 3
   },
   "file_extension": ".py",
   "mimetype": "text/x-python",
   "name": "python",
   "nbconvert_exporter": "python",
   "pygments_lexer": "ipython3",
   "version": "3.10.8"
  }
 },
 "nbformat": 4,
 "nbformat_minor": 2
}
