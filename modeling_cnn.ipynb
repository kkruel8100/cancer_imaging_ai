{
 "cells": [
  {
   "cell_type": "code",
   "execution_count": 22,
   "metadata": {},
   "outputs": [],
   "source": [
    "import pickle\n",
    "from PIL import Image\n",
    "import numpy as np"
   ]
  },
  {
   "cell_type": "code",
   "execution_count": 2,
   "metadata": {},
   "outputs": [],
   "source": [
    "file_path = './datasets'\n",
    "file_suffix = '.pkl'\n",
    "test_benign_local_path = f'{file_path}/test_benign{file_suffix}'\n",
    "\n",
    "# Load the pickle file from local\n",
    "with open(test_benign_local_path, 'rb') as f:\n",
    "    test_benign = pickle.load(f)"
   ]
  },
  {
   "cell_type": "code",
   "execution_count": 3,
   "metadata": {},
   "outputs": [],
   "source": [
    "test_malignant_local_path = f'{file_path}/test_malignant{file_suffix}'\n",
    "\n",
    "# Load the pickle file from local\n",
    "with open(test_malignant_local_path, 'rb') as f:\n",
    "    test_malignant = pickle.load(f)"
   ]
  },
  {
   "cell_type": "code",
   "execution_count": 4,
   "metadata": {},
   "outputs": [],
   "source": [
    "train_malignant_local_path = f'{file_path}/train_malignant{file_suffix}'\n",
    "\n",
    "# Load the pickle file from local\n",
    "with open(train_malignant_local_path, 'rb') as f:\n",
    "    train_malignant = pickle.load(f)"
   ]
  },
  {
   "cell_type": "code",
   "execution_count": 5,
   "metadata": {},
   "outputs": [],
   "source": [
    "train_benign_local_path = f'{file_path}/train_benign{file_suffix}'\n",
    "\n",
    "# Load the pickle file from local\n",
    "with open(train_benign_local_path, 'rb') as f:\n",
    "    train_benign = pickle.load(f)"
   ]
  },
  {
   "cell_type": "code",
   "execution_count": 27,
   "metadata": {},
   "outputs": [
    {
     "name": "stdout",
     "output_type": "stream",
     "text": [
      "<class 'numpy.ndarray'>\n",
      "<class 'list'>\n",
      "11879\n",
      "(224, 224, 3)\n"
     ]
    }
   ],
   "source": [
    "# Combine train benign and malignant data into list\n",
    "X_train = train_benign + train_malignant\n",
    "print(type(X_train[0]))\n",
    "print(type(X_train))\n",
    "print(len(X_train))\n",
    "print(X_train[0].shape)"
   ]
  },
  {
   "cell_type": "code",
   "execution_count": 10,
   "metadata": {},
   "outputs": [
    {
     "name": "stdout",
     "output_type": "stream",
     "text": [
      "<class 'list'>\n",
      "11879\n",
      "benign\n"
     ]
    }
   ],
   "source": [
    "# Combine train benign and malignant data into list and add label\n",
    "y_train = [\"benign\"] * len(train_benign) + [\"malignant\"] * len(train_malignant)\n",
    "print(type(y_train))\n",
    "print(len(y_train))\n",
    "print(y_train[0])"
   ]
  },
  {
   "cell_type": "code",
   "execution_count": 28,
   "metadata": {},
   "outputs": [
    {
     "name": "stdout",
     "output_type": "stream",
     "text": [
      "<class 'numpy.ndarray'>\n",
      "<class 'list'>\n",
      "2000\n",
      "(224, 224, 3)\n"
     ]
    }
   ],
   "source": [
    "# Combine test benign and malignant data into list\n",
    "X_test = test_benign + test_malignant\n",
    "print(type(X_test[0]))\n",
    "print(type(X_test))\n",
    "print(len(X_test))\n",
    "print(X_test[0].shape)"
   ]
  },
  {
   "cell_type": "code",
   "execution_count": 12,
   "metadata": {},
   "outputs": [
    {
     "name": "stdout",
     "output_type": "stream",
     "text": [
      "<class 'list'>\n",
      "2000\n",
      "benign\n"
     ]
    }
   ],
   "source": [
    "y_test = [\"benign\"] * len(test_benign) + [\"malignant\"] * len(test_malignant)\n",
    "print(type(y_test))\n",
    "print(len(y_test))\n",
    "print(y_test[0])"
   ]
  },
  {
   "cell_type": "code",
   "execution_count": 13,
   "metadata": {},
   "outputs": [],
   "source": [
    "from sklearn.preprocessing import LabelEncoder"
   ]
  },
  {
   "cell_type": "code",
   "execution_count": 30,
   "metadata": {},
   "outputs": [
    {
     "name": "stdout",
     "output_type": "stream",
     "text": [
      "<class 'numpy.ndarray'>\n",
      "0\n"
     ]
    }
   ],
   "source": [
    "# Label encode the y data\n",
    "y_train_encoder = LabelEncoder().fit(y_train)\n",
    "y_train_encoded = y_train_encoder.transform(y_train)\n",
    "print(type(y_train_encoded))\n",
    "print(y_train_encoded[0])"
   ]
  },
  {
   "cell_type": "code",
   "execution_count": 31,
   "metadata": {},
   "outputs": [
    {
     "name": "stdout",
     "output_type": "stream",
     "text": [
      "<class 'numpy.ndarray'>\n",
      "0\n"
     ]
    }
   ],
   "source": [
    "# Label encode the y data\n",
    "y_test_encoder = LabelEncoder().fit(y_test)\n",
    "y_test_encoded = y_test_encoder.transform(y_test)\n",
    "print(type(y_test_encoded))\n",
    "print(y_test_encoded[0])"
   ]
  },
  {
   "cell_type": "code",
   "execution_count": 16,
   "metadata": {},
   "outputs": [],
   "source": [
    "import tensorflow as tf\n",
    "from tensorflow import keras\n",
    "from tensorflow.keras import layers\n",
    "from tensorflow.keras.optimizers import Adam"
   ]
  },
  {
   "cell_type": "code",
   "execution_count": 19,
   "metadata": {},
   "outputs": [
    {
     "name": "stdout",
     "output_type": "stream",
     "text": [
      "11879\n",
      "11879\n",
      "2000\n",
      "2000\n"
     ]
    }
   ],
   "source": [
    "print(len(X_train))\n",
    "print(len(y_train_encoded))\n",
    "print(len(X_test))\n",
    "print(len(y_test_encoded))"
   ]
  },
  {
   "cell_type": "code",
   "execution_count": 23,
   "metadata": {},
   "outputs": [
    {
     "name": "stdout",
     "output_type": "stream",
     "text": [
      "Unique shapes in X_train: [[224 224   3]]\n",
      "Unique shapes in X_test: [[224 224   3]]\n"
     ]
    }
   ],
   "source": [
    "# Get unique shapes\n",
    "\n",
    "X_train_shapes = [x.shape for x in X_train]\n",
    "X_test_shapes = [x.shape for x in X_test]\n",
    "\n",
    "# Get unique shapes\n",
    "unique_shapes_train = np.unique(X_train_shapes, axis=0)\n",
    "unique_shapes_test = np.unique(X_test_shapes, axis=0)\n",
    "\n",
    "print(\"Unique shapes in X_train:\", unique_shapes_train)\n",
    "print(\"Unique shapes in X_test:\", unique_shapes_test)"
   ]
  },
  {
   "cell_type": "code",
   "execution_count": 33,
   "metadata": {},
   "outputs": [
    {
     "name": "stdout",
     "output_type": "stream",
     "text": [
      "Epoch 1/2\n",
      "372/372 [==============================] - 49s 130ms/step - loss: 129.5235 - accuracy: 0.5255 - val_loss: 0.6934 - val_accuracy: 0.5000\n",
      "Epoch 2/2\n",
      "372/372 [==============================] - 49s 133ms/step - loss: 0.6919 - accuracy: 0.5294 - val_loss: 0.6939 - val_accuracy: 0.5000\n"
     ]
    }
   ],
   "source": [
    "# Define a CNN model\n",
    "model = keras.Sequential([\n",
    "    layers.Conv2D(32, (3, 3), activation='relu', input_shape=(224, 224, 3)),\n",
    "    layers.MaxPooling2D((2, 2)),\n",
    "    layers.Flatten(),\n",
    "    layers.Dense(64, activation='relu'),\n",
    "    layers.Dense(1, activation='sigmoid')\n",
    "])\n",
    "\n",
    "# Compile the model\n",
    "model.compile(optimizer='adam', loss='binary_crossentropy', metrics=['accuracy'])\n",
    "\n",
    "# Train the model\n",
    "batch_size = 32\n",
    "epochs = 2\n",
    "\n",
    "X_train_np = np.array(X_train)\n",
    "X_test_np = np.array(X_test)\n",
    "\n",
    "history = model.fit(\n",
    "    X_train_np, y_train_encoded,\n",
    "    validation_data=(X_test_np, y_test_encoded),\n",
    "    epochs=epochs\n",
    ")"
   ]
  }
 ],
 "metadata": {
  "kernelspec": {
   "display_name": "dev",
   "language": "python",
   "name": "python3"
  },
  "language_info": {
   "codemirror_mode": {
    "name": "ipython",
    "version": 3
   },
   "file_extension": ".py",
   "mimetype": "text/x-python",
   "name": "python",
   "nbconvert_exporter": "python",
   "pygments_lexer": "ipython3",
   "version": "3.10.8"
  }
 },
 "nbformat": 4,
 "nbformat_minor": 2
}
