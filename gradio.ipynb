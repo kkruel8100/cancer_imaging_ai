{
 "cells": [
  {
   "cell_type": "code",
   "execution_count": 1,
   "metadata": {},
   "outputs": [],
   "source": [
    "\n",
    "import pickle\n",
    "from PIL import Image\n",
    "import numpy as np\n",
    "import gradio as gr\n",
    "from tensorflow.keras.models import load_model\n",
    "from PIL import Image\n",
    "import tensorflow as tf\n"
   ]
  },
  {
   "cell_type": "code",
   "execution_count": 2,
   "metadata": {},
   "outputs": [],
   "source": [
    "from pathlib import Path\n",
    "# Set the model's file path\n",
    "file_path = Path(\"models/model_adam_scaled.h5\")\n",
    "\n",
    "# Load the model to a new object\n",
    "adam_scaled = tf.keras.models.load_model(file_path)"
   ]
  },
  {
   "cell_type": "code",
   "execution_count": 3,
   "metadata": {},
   "outputs": [
    {
     "name": "stdout",
     "output_type": "stream",
     "text": [
      "Running on local URL:  http://127.0.0.1:7871\n",
      "\n",
      "Thanks for being a Gradio user! If you have questions or feedback, please join our Discord server and chat with us: https://discord.gg/feTf9x3ZSB\n",
      "IMPORTANT: You are using gradio version 4.4.1, however version 4.29.0 is available, please upgrade.\n",
      "--------\n",
      "Running on public URL: https://5213dc516335235c1c.gradio.live\n",
      "\n",
      "This share link expires in 72 hours. For free permanent hosting and GPU upgrades, run `gradio deploy` from Terminal to deploy to Spaces (https://huggingface.co/spaces)\n"
     ]
    },
    {
     "data": {
      "text/html": [
       "<div><iframe src=\"https://5213dc516335235c1c.gradio.live\" width=\"100%\" height=\"500\" allow=\"autoplay; camera; microphone; clipboard-read; clipboard-write;\" frameborder=\"0\" allowfullscreen></iframe></div>"
      ],
      "text/plain": [
       "<IPython.core.display.HTML object>"
      ]
     },
     "metadata": {},
     "output_type": "display_data"
    },
    {
     "data": {
      "text/plain": []
     },
     "execution_count": 3,
     "metadata": {},
     "output_type": "execute_result"
    },
    {
     "name": "stdout",
     "output_type": "stream",
     "text": [
      "1/1 [==============================] - 0s 57ms/step\n"
     ]
    },
    {
     "name": "stderr",
     "output_type": "stream",
     "text": [
      "2024-05-16 20:28:54.590259: W tensorflow/tsl/platform/profile_utils/cpu_utils.cc:128] Failed to get CPU frequency: 0 Hz\n"
     ]
    },
    {
     "name": "stdout",
     "output_type": "stream",
     "text": [
      "0.6179347\n",
      "1/1 [==============================] - 0s 27ms/step\n",
      "0.6041635\n",
      "1/1 [==============================] - 0s 24ms/step\n",
      "0.6710477\n",
      "1/1 [==============================] - 0s 24ms/step\n",
      "0.19146545\n",
      "1/1 [==============================] - 0s 24ms/step\n",
      "0.007982065\n",
      "1/1 [==============================] - 0s 24ms/step\n",
      "0.9517068\n",
      "1/1 [==============================] - 0s 24ms/step\n",
      "0.6379608\n",
      "1/1 [==============================] - 0s 20ms/step\n",
      "0.16897038\n",
      "1/1 [==============================] - 0s 24ms/step\n",
      "0.007982065\n"
     ]
    }
   ],
   "source": [
    "# Import Gradio\n",
    "import gradio as gr\n",
    "\n",
    "# Define a prediction function\n",
    "def predict_image(img):\n",
    "    try:\n",
    "        img = img.resize((224, 224))\n",
    "        img_array = np.array(img) / 255.0\n",
    "        img_array = np.expand_dims(img_array, axis=0)\n",
    "        prediction = adam_scaled.predict(img_array)\n",
    "        print(prediction[0][0])\n",
    "        return \"Malignant\" if prediction[0][0] > 0.5 else \"Benign\"\n",
    "    except Exception as e:\n",
    "        print(f'Error: {e}')\n",
    "        return 'There was an error processing the image. Please try again.'\n",
    "\n",
    "# Create Gradio interface\n",
    "interface = gr.Interface(\n",
    "    fn=predict_image,\n",
    "    inputs=gr.Image(image_mode='RGB', type='pil'),\n",
    "    outputs=\"text\",\n",
    "    title=\"Image Classification with CNN\",\n",
    "    description=\"Upload an image and the model will predict whether it's malignant or benign.\"\n",
    ")\n",
    "\n",
    "# Launch the interface\n",
    "interface.launch(share=True)\n",
    "\n",
    "\n"
   ]
  }
 ],
 "metadata": {
  "kernelspec": {
   "display_name": "dev",
   "language": "python",
   "name": "python3"
  },
  "language_info": {
   "codemirror_mode": {
    "name": "ipython",
    "version": 3
   },
   "file_extension": ".py",
   "mimetype": "text/x-python",
   "name": "python",
   "nbconvert_exporter": "python",
   "pygments_lexer": "ipython3",
   "version": "3.10.8"
  }
 },
 "nbformat": 4,
 "nbformat_minor": 2
}
